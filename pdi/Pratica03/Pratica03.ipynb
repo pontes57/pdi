{
 "cells": [
  {
   "cell_type": "markdown",
   "id": "8a1d4377",
   "metadata": {},
   "source": [
    "# Processamento Digital de Imagens - Aula Prática 3\n",
    "\n",
    "## 1. Preparação\n",
    "\n",
    "### a) Edite a célula abaixo, preencha com seus dados pessoais e a execute novamente"
   ]
  },
  {
   "cell_type": "markdown",
   "id": "a63e2bf8",
   "metadata": {},
   "source": [
    "<b>Aluno(a):</b>\n",
    "\n",
    "- Matrícula: 98877\n",
    "- Nome: gabriel macedo nunes pontes"
   ]
  },
  {
   "cell_type": "markdown",
   "id": "63f6da32",
   "metadata": {},
   "source": [
    "### b) Observações e instruções gerais:\n",
    "\n",
    "- Entregue <b>apenas</b> o notebook resultante do seu trabalho. Não há necessidade de se entregar qualquer outro arquivo.\n",
    "- O trabalho deve ser desenvolvido <b>indivualmente</b>"
   ]
  },
  {
   "cell_type": "markdown",
   "id": "8ec70686",
   "metadata": {},
   "source": [
    "### c) Execute a célula abaixo, que conterá as importações de módulos Python.\n",
    "\n",
    "#### Você é livre para editar e adicionar outras importações a esta célula."
   ]
  },
  {
   "cell_type": "code",
   "execution_count": 7,
   "id": "f597c805",
   "metadata": {},
   "outputs": [],
   "source": [
    "# Manipulação de imagens\n",
    "from PIL import Image\n",
    "from PIL import ImageOps\n",
    "\n",
    "import numpy as np # Manipulação de arrays\n",
    "import os # Acesso ao sistema de arquivos do SO"
   ]
  },
  {
   "cell_type": "markdown",
   "id": "b12916b0",
   "metadata": {},
   "source": [
    "### d) Função auxiliar pronta. Execute a célula a seguir."
   ]
  },
  {
   "cell_type": "markdown",
   "id": "da63fad3",
   "metadata": {},
   "source": [
    "<p>Função <code>abre_imagem</code>:</p>\n",
    "<ul>\n",
    "    <li>A partir de um nome de arquivo, retorna dois objetos <code>PIL Image</code>, na versão RGB e em tons de cinza</li>\n",
    "    <li>Em caso de erro ao encontrar arquivo, exibe mensagem de alerta em tela e retorna nulo (<code>None</code>)</li>\n",
    "    <li><u>Parâmetro de entrada:</u> <code>arquivo</code>, <i>string</i> contendo o nome do arquivo de imagem</li>\n",
    "    <li><u>Retorno:</u> objeto <code>PIL Image</code> na versão RGB da imagem</li>\n",
    "</ul>"
   ]
  },
  {
   "cell_type": "code",
   "execution_count": 2,
   "id": "3417e67f",
   "metadata": {},
   "outputs": [],
   "source": [
    "def abre_imagem(arquivo):\n",
    "    if os.path.isfile(arquivo):\n",
    "        img = Image.open(arquivo)\n",
    "        if img.mode == 'L':\n",
    "            img = img.convert('RGB')\n",
    "        \n",
    "        return img\n",
    "    else:\n",
    "        print('\\n\\n\\nErro!!! Arquivo inexistente.\\n\\n\\n')\n",
    "        return None"
   ]
  },
  {
   "cell_type": "markdown",
   "id": "26fdcdf2",
   "metadata": {},
   "source": [
    "## 2. Exercício: <i>Dithering</i>\n",
    "\n",
    "<p><i>Dithering</i> (não há uma boa tradução para o termo) é uma técnica que consiste em gerar imagens binárias que, por meio de densidade de pixels pretos, gera um efeito que \"engana\" nosso sistema visual, trazendo-nos uma ilusão de uma imagem em tons de cinza, embora a mesma seja binária, isto é, só contenha pixels pretos e brancos.</p>\n",
    "\n",
    "<p>Por densidade de pixels pretos, entenda-se a concentração de pixels pretos em uma mesma região da imagem.</p>\n",
    "\n",
    "<p>Nesta aula prática, vamos implementar dois algoritmos diferentes de <i>dithering</i> o de Atkinson e o de Bayer.</p>\n",
    "\n",
    "### 2.1 Algoritmo de Atkison\n",
    "\n",
    "<p>É o mesmo algoritmo que está no slide $78$ do material sobre filtragem espacial:</p>\n",
    "\n",
    "<img src=\"atkinson.png\" width=\"80%\">\n",
    "\n",
    "<p><font color=\"red\">Implemente o corpo da função</font> <code>atkinson</code>, na célula a seguir para que os códigos das células de teste funcionem corretamente.</p>\n",
    "\n",
    "<p>Resultado esperado para a imagem <code>blue_tang.jpg</code>:</p>\n",
    "\n",
    "<img src=\"blue_tang_atk.png\">\n",
    "\n",
    "<p>Resultado esperado para a imagem <code>capivara.jpg</code>:</p>\n",
    "\n",
    "<img src=\"capivara_atk.jpg\" width=\"30%\">\n",
    "\n",
    "<p>Resultado esperado para a imagem <code>praia.png</code>:</p>\n",
    "\n",
    "<img src=\"praia_atk.png\" width=\"25%\">\n",
    "\n",
    "<p><b>Obs.:</b> note que a imagem de entrada do algoritmo precisa estar em tons de cinza.</p>"
   ]
  },
  {
   "cell_type": "code",
   "execution_count": 27,
   "id": "bc931c35",
   "metadata": {},
   "outputs": [],
   "source": [
    "def atkinson(img):\n",
    "    img=ImageOps.grayscale(img)\n",
    "    saida=np.asarray(img,dtype=int)\n",
    "    for i in range(saida.shape[0]):\n",
    "        for j in range(saida.shape[1]):\n",
    "            salva=saida[i][j]\n",
    "            if saida[i][j]>=255//2:\n",
    "                saida[i][j]=255\n",
    "            else:\n",
    "                saida[i][j]=0\n",
    "            er=salva-saida[i][j]\n",
    "            if j+1<saida.shape[1]:\n",
    "                saida[i][j+1]+=er/8\n",
    "                if i+1<saida.shape[0]:\n",
    "                    saida[i+1][j+1]+=er/8\n",
    "            if i+1<saida.shape[0]:\n",
    "                saida[i+1][j]+=er/8\n",
    "                if j-1>=0:\n",
    "                    saida[i+1][j-1]+=er/8\n",
    "            if i+2<saida.shape[0]:\n",
    "                saida[i+2][j]+=er/8\n",
    "            if j+2<saida.shape[1]:\n",
    "                saida[i][j+2]+=er/8\n",
    "    imgAtkinson=Image.fromarray(np.uint8(saida))\n",
    "    return imgAtkinson"
   ]
  },
  {
   "cell_type": "markdown",
   "id": "c366ba51",
   "metadata": {},
   "source": [
    "#### Células de teste:"
   ]
  },
  {
   "cell_type": "code",
   "execution_count": 31,
   "id": "5100e6bd",
   "metadata": {},
   "outputs": [],
   "source": [
    "img = abre_imagem('blue_tang.jpg')\n",
    "imgAtk = atkinson(img)\n",
    "img.show()\n",
    "imgAtk.show()"
   ]
  },
  {
   "cell_type": "code",
   "execution_count": 29,
   "id": "fa9c3dbb",
   "metadata": {},
   "outputs": [],
   "source": [
    "img = abre_imagem('capivara.jpg')\n",
    "imgAtk = atkinson(img)\n",
    "img.show()\n",
    "imgAtk.show()"
   ]
  },
  {
   "cell_type": "code",
   "execution_count": 30,
   "id": "ed7e18e0",
   "metadata": {},
   "outputs": [],
   "source": [
    "img = abre_imagem('praia.png')\n",
    "imgAtk = atkinson(img)\n",
    "img.show()\n",
    "imgAtk.show()"
   ]
  },
  {
   "cell_type": "markdown",
   "id": "d0b11fa3",
   "metadata": {},
   "source": [
    "### 2.2 Algoritmo de Bayer\n",
    "\n",
    "<p>A ideia por trás deste algoritmo é aplicar um padrão de limiar sobre a imagem e binarizar a mesma de acordo com aquele padrão. Para isto, utiliza-se uma matriz de padrão, e subdivide-se a imagem em blocos do tamanho daquela matriz, de forma similar ao que fizemos com o efeito \"pixelização\". Se o valor do pixel for superior ao valor da posição correspondente na matriz de padrão, o pixel assume a cor branca. Caso contrário, assume a cor preta.</p>\n",
    "\n",
    "<p>Temos duas versões clássicas de implementação do algoritmo. Com o padrão $2\\times2$:</p>\n",
    "\n",
    "<img src=\"bayer2.png\">\n",
    "\n",
    "<p>Dado pela matriz:</p>\n",
    "\n",
    "\\begin{equation}\n",
    "    M = \\begin{pmatrix}\n",
    "    0 & 60 \\\\\n",
    "    45 & 110 \\\\\n",
    "    \\end{pmatrix}\\nonumber\n",
    "\\end{equation}\n",
    "\n",
    "<p>E com o padrão $5\\times5$:</p>\n",
    "\n",
    "<img src=\"bayer5.png\" width=\"15%\">\n",
    "\n",
    "<p>Dado pela matriz:</p>\n",
    "\n",
    "\\begin{equation}\n",
    "    M = \\begin{pmatrix}\n",
    "    167 & 200 & 230 & 216 & 181 \\\\\n",
    "    94 & 72 & 193 & 242 & 232 \\\\\n",
    "    36 & 52 & 222 & 167 & 200 \\\\\n",
    "    181 & 126 & 210 & 94 & 72\\\\\n",
    "    232 & 153 & 111 & 36 & 52 \\\\\n",
    "    \\end{pmatrix}\\nonumber\n",
    "\\end{equation}\n",
    "\n",
    "<p>O algoritmo em alto nível para a técnica está a seguir.</p>\n",
    "\n",
    "<img src=\"bayer.png\" width=\"60%\">\n",
    "\n",
    "<p><font color=\"red\">Implemente uma ou duas funções</font>, a seu critério, para aplicar o efeito sobre uma imagem de entrada. Implemente também os códigos das células de teste. Se for implementar uma única função, a matriz $M$ tem de ser passada como parâmetro.</p>\n",
    "\n",
    "<p>Resultados esperados para a imagem <code>blue_tang.jpg</code> (esquerda: Bayer $2\\times2$, direita: Bayer $5\\times5$):</p>\n",
    "\n",
    "<table>\n",
    "    <tr>\n",
    "        <td><img src=\"blue_tang_b2.png\"></td>\n",
    "        <td><img src=\"blue_tang_b5.png\"></td>\n",
    "    </tr>\n",
    "</table>\n",
    "\n",
    "<p>Resultado esperado para a imagem <code>capivara.jpg</code>  (esquerda: Bayer $2\\times2$, direita: Bayer $5\\times5$):</p>\n",
    "\n",
    "<table>\n",
    "    <tr>\n",
    "        <td><img src=\"capivara_b2.jpg\" width=\"60%\"></td>\n",
    "        <td><img src=\"capivara_b5.jpg\" width=\"60%\"></td>\n",
    "    </tr>\n",
    "</table>\n",
    "\n",
    "<p>Resultado esperado para a imagem <code>praia.png</code>  (esquerda: Bayer $2\\times2$, direita: Bayer $5\\times5$):</p>\n",
    "\n",
    "<table>\n",
    "    <tr>\n",
    "        <td><img src=\"praia_b2.png\" width=\"60%\"></td>\n",
    "        <td><img src=\"praia_b5.png\" width=\"60%\"></td>\n",
    "    </tr>\n",
    "</table>\n",
    "\n",
    "<p><b>Obs.:</b> note que, assim como no caso do algoritmo de Atkinson, a imagem de entrada precisa estar em tons de cinza.</p>"
   ]
  },
  {
   "cell_type": "markdown",
   "id": "e3ae8a25",
   "metadata": {},
   "source": [
    "#### Implemente a(s) função(ões) na célula a seguir"
   ]
  },
  {
   "cell_type": "code",
   "execution_count": 38,
   "id": "3448d5e1",
   "metadata": {},
   "outputs": [],
   "source": [
    "def di(img,m):\n",
    "    saida=np.asarray(img,dtype=int)\n",
    "    d=m.shape[1]\n",
    "    for i in range(saida.shape[0]):\n",
    "        for j in range(saida.shape[1]):\n",
    "            L=i%d\n",
    "            C=j%d\n",
    "            if saida[i][j]>m[L][C]:\n",
    "                saida[i][j]=255\n",
    "            else:\n",
    "                saida[i][j]=0\n",
    "    di=Image.fromarray(np.uint8(saida))\n",
    "    return di"
   ]
  },
  {
   "cell_type": "markdown",
   "id": "1989fa16",
   "metadata": {},
   "source": [
    "#### Código de teste para imagem <code>blue_tang.jpg</code>"
   ]
  },
  {
   "cell_type": "code",
   "execution_count": 39,
   "id": "a5ee4e6f",
   "metadata": {},
   "outputs": [],
   "source": [
    "img = abre_imagem('blue_tang.jpg')\n",
    "M2 = np.array( [[0,60],[45,110]])\n",
    "M5 = np.array(   [[167, 200, 230, 216, 181],\n",
    "                [94, 72, 193, 242, 232],\n",
    "                [36, 52, 222, 167, 200],\n",
    "                [181, 126, 210, 94, 72],\n",
    "                [232, 153, 111, 36, 52]])\n",
    "img=ImageOps.grayscale(img)\n",
    "imgdi2 = di(img,M2)\n",
    "imgdi5 = di(img,M5)\n",
    "img.show()\n",
    "imgdi2.show()\n",
    "imgdi5.show()"
   ]
  },
  {
   "cell_type": "markdown",
   "id": "2191a5f5",
   "metadata": {},
   "source": [
    "#### Código de teste para imagem <code>capivara.jpg</code>"
   ]
  },
  {
   "cell_type": "code",
   "execution_count": 40,
   "id": "d50ae05e",
   "metadata": {},
   "outputs": [],
   "source": [
    "img = abre_imagem('capivara.jpg')\n",
    "M2 = np.array( [[0,60],[45,110]])\n",
    "M5 = np.array(   [[167, 200, 230, 216, 181],\n",
    "                [94, 72, 193, 242, 232],\n",
    "                [36, 52, 222, 167, 200],\n",
    "                [181, 126, 210, 94, 72],\n",
    "                [232, 153, 111, 36, 52]])\n",
    "img=ImageOps.grayscale(img)\n",
    "imgdi2 = di(img,M2)\n",
    "imgdi5 = di(img,M5)\n",
    "img.show()\n",
    "imgdi2.show()\n",
    "imgdi5.show()"
   ]
  },
  {
   "cell_type": "markdown",
   "id": "5bee4f42",
   "metadata": {},
   "source": [
    "#### Código de teste para imagem <code>praia.png</code>"
   ]
  },
  {
   "cell_type": "code",
   "execution_count": null,
   "id": "d9ea03fe",
   "metadata": {},
   "outputs": [],
   "source": [
    "img = abre_imagem('praia.png')\n",
    "M2 = np.array( [[0,60],[45,110]])\n",
    "M5 = np.array(   [[167, 200, 230, 216, 181],\n",
    "                [94, 72, 193, 242, 232],\n",
    "                [36, 52, 222, 167, 200],\n",
    "                [181, 126, 210, 94, 72],\n",
    "                [232, 153, 111, 36, 52]])\n",
    "img=ImageOps.grayscale(img)\n",
    "imgdi2 = di(img,M2)\n",
    "imgdi5 = di(img,M5)\n",
    "img.show()\n",
    "imgdi2.show()\n",
    "imgdi5.show()"
   ]
  }
 ],
 "metadata": {
  "kernelspec": {
   "display_name": "Python 3 (ipykernel)",
   "language": "python",
   "name": "python3"
  },
  "language_info": {
   "codemirror_mode": {
    "name": "ipython",
    "version": 3
   },
   "file_extension": ".py",
   "mimetype": "text/x-python",
   "name": "python",
   "nbconvert_exporter": "python",
   "pygments_lexer": "ipython3",
   "version": "3.9.6"
  }
 },
 "nbformat": 4,
 "nbformat_minor": 5
}

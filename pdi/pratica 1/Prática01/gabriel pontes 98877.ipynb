{
 "cells": [
  {
   "cell_type": "markdown",
   "metadata": {},
   "source": [
    "# Prática 01 - INF 394 - Processamento Digital de Imagens - 23/08/2021\n",
    "\n",
    "## Introdução\n",
    "\n",
    "Preencha/complete este Notebook de forma a cumprir as tarefas pedidas. Você pode:\n",
    "\n",
    "<ul>\n",
    "    <li>Executar e testar localmente, em seu computador, se já tiver se preparado e instalado a estrutura básica para execução de Notebooks Python (Jupyter)</li>\n",
    "    <li>Executar na nuvem, utilizando o <a href=\"https://colab.research.google.com/notebooks/intro.ipynb#recent=true\" target=\"_blank\">Google Colab</a></li>\n",
    "</ul>\n",
    "\n",
    "Formato de entrega: <b>Python Notebook</b><sup>[1]</sup>\n",
    "\n",
    "Meio de entrega: Atividade no Moodle\n",
    "\n",
    "<b>Observações importantes:</b>\n",
    "\n",
    "<ul>\n",
    "    <li>Está vetado, para este trabalho, o uso de qualquer biblioteca, módulo pronto, framework ou coisa que o equivalha, que já traga pronta a implementação dos algoritmos e técnicas de Processamento Digital de Imagens pedidos nesta atividade (por exemplo, OpenCV). <b>Você</b> deve implementar estes recursos.</li>\n",
    "    <li>Está liberado o uso de qualquer biblioteca, módulo, framework etc. que não seja para a finalidade descrita acima. Por exemplo, esteja à vontade para utilizar bibliotecas para manipulação de arranjos, matemática, gerenciamento de arquivos no SO, geração de números aleatórios etc.</li>\n",
    "    <li>Pode-se utilizar como fonte de estudo o material disponibilizado no Moodle ou qualquer outro que desejar.</li>\n",
    "</ul>\n",
    "\n",
    "___________________________\n",
    "\n",
    "<sup>[1]</sup>Se houver feito na nuvem, baixe-o para seu computador antes de entregar"
   ]
  },
  {
   "cell_type": "markdown",
   "metadata": {},
   "source": [
    "## Parte 1: O básico\n",
    "\n",
    "### Passos iniciais\n",
    "\n",
    "#### 1.1. Importação de módulos (\"bibliotecas\")\n",
    "\n",
    "Você pode ficar à vontade para adicionar outras bibliotecas que desejar, desde que observadas as considerações acima. Execute a célula abaixo."
   ]
  },
  {
   "cell_type": "code",
   "execution_count": 2,
   "metadata": {},
   "outputs": [],
   "source": [
    "from PIL import Image\n",
    "import numpy as np"
   ]
  },
  {
   "cell_type": "markdown",
   "metadata": {},
   "source": [
    "#### 1.2. Testando abrir e visualizar imagem\n",
    "\n",
    "Na célula abaixo, abra e exiba em tela o arquivo <code>praiaOrig.png</code>, que você baixou no pacote <code>.zip</code> que acompanha este roteiro."
   ]
  },
  {
   "cell_type": "code",
   "execution_count": 5,
   "metadata": {},
   "outputs": [
    {
     "name": "stdout",
     "output_type": "stream",
     "text": [
      "Informe o nome do primeiro arquivo de imagem: C:\\Users\\gabri\\Documents\\pdi\\pratica 1\\Prática01\\praiaOrig.png\n"
     ]
    }
   ],
   "source": [
    "entradaF = input('Informe o caminho da imagem: ')\n",
    "imgF = Image.open(entradaF)\n",
    "imgF.show()"
   ]
  },
  {
   "cell_type": "markdown",
   "metadata": {},
   "source": [
    "#### 1.3. Declarando funções\n",
    "\n",
    "Execute a célula abaixo. Acrescente quaisquer funções que desejar implementar durante a prática.\n",
    "\n",
    "A função <code>rmse</code>, que já se encontra pronta, é uma possível dentre diversas métricas que podem ser utilizadas para comparar imagens, chamada <i>RMSE</i>. Ela recebe como entrada dois objetos <code>PIL Image</code> e retorna como saída um número de ponto flutuante, representando um grau de similaridade entre as duas imagens de entrada. Quanto menor o valor obtido, mais parecidas as imagens são. Para mais detalhes, assista a aula pré-gravada com o tema <i>Entropia, Ruídos e Métricas</i>."
   ]
  },
  {
   "cell_type": "code",
   "execution_count": 3,
   "metadata": {},
   "outputs": [],
   "source": [
    "def rmse(imgF, imgG):\n",
    "    f = np.asarray(imgF, dtype=int)\n",
    "    g = np.asarray(imgG, dtype=int)\n",
    "    \n",
    "    return np.sqrt(np.average((f-g)**2))"
   ]
  },
  {
   "cell_type": "markdown",
   "metadata": {},
   "source": [
    "#### 1.4. Testando a primeira manipulação de imagem, na abordagem ponto a ponto\n",
    "\n",
    "Na célula abaixo, implemente os seguintes passos:\n",
    "\n",
    "<ol>\n",
    "    <li>Extraia, para um <i>array</i> <code>numpy</code>, o conteúdo da matriz da imagem que você abriu anteriormente (praia)</li>\n",
    "    <li>Obtenha/calcule o negativo da imagem</li>\n",
    "    <li>Exiba em tela a imagem</li>\n",
    "    <li>Salve em disco a saída, com o nome <code>praia-negativo.png</code></li>\n",
    "</ol>\n",
    "\n",
    "Resultado esperado:\n",
    "\n",
    "<img src='praia-negativo.png' width='20%'>"
   ]
  },
  {
   "cell_type": "code",
   "execution_count": 6,
   "metadata": {},
   "outputs": [
    {
     "name": "stdout",
     "output_type": "stream",
     "text": [
      "Informe o caminho e o nome do arquivo de saída: C:\\Users\\gabri\\Documents\\pdi\\pratica 1\\Prática01\\praia-negativo.png\n"
     ]
    }
   ],
   "source": [
    "saida = input('Informe o caminho da saída: ')\n",
    "f = np.asarray(imgF, dtype=int)\n",
    "f = 255 - f\n",
    "\n",
    "imgH = Image.fromarray(np.uint8(f))\n",
    "imgH.show()\n",
    "imgH.save(saida+'praia-negativo.png')"
   ]
  },
  {
   "cell_type": "markdown",
   "metadata": {},
   "source": [
    "## Parte 2: manipulando cores de imagens\n",
    "\n",
    "### 2.1. Conversão em tons de cinza\n",
    "\n",
    "Na célula abaixo, implemente os seguintes passos:\n",
    "\n",
    "<ol>\n",
    "    <li>Extraia, para um <i>array</i> <code>numpy</code>, o conteúdo da matriz da imagem que você abriu anteriormente (praia)</li>\n",
    "    <li>Converta a imagem para monocromática em tons de cinza, usando a técnica <i>luminosity</i>.</li>\n",
    "    <li>Exiba em tela a imagem</li>\n",
    "    <li>Salve em disco a saída, com o nome <code>praia-cinza.png</code></li>\n",
    "</ol>\n",
    "\n",
    "Resultado esperado:\n",
    "\n",
    "<img src='praia-cinza.png' width='20%'>\n",
    "\n",
    "Para a conversão usando o método <i>luminosity</i>, utilize: $p'(x,y) = 0,299 \\cdot R_{p}(x,y) + 0,587 \\cdot G_{p}(x,y) + 0,114 \\cdot B_{p}(x,y)$"
   ]
  },
  {
   "cell_type": "code",
   "execution_count": 7,
   "metadata": {
    "scrolled": true
   },
   "outputs": [
    {
     "name": "stdout",
     "output_type": "stream",
     "text": [
      "Informe o caminho e o nome do arquivo de saída: C:\\Users\\gabri\\Documents\\pdi\\pratica 1\\Prática01\\teste.png\n"
     ]
    }
   ],
   "source": [
    "saida = input('Informe o caminho de saída: ')\n",
    "f = np.asarray(imgF, dtype=float)\n",
    "f = 0.299 * f[:,:,0] + 0.587 * f[:,:,1] + 0.114 * f[:,:,2]\n",
    "imgH = Image.fromarray(np.uint8(np.round(f)))\n",
    "imgH.show()\n",
    "imgH.save(saida+'praia-cinza.png')\n"
   ]
  },
  {
   "cell_type": "markdown",
   "metadata": {},
   "source": [
    "### 2.2. Reconstruindo uma imagem colorida RGB\n",
    "\n",
    "Na pasta <code>canaisRGB</code> encontram-se três imagens em tons de cinza, representando os dados dos três canais (R, G e B) de uma imagem colorida. Esta tarefa consiste em você reconstruir a imagem original, da qual foram extraídos tais canais.\n",
    "\n",
    "Tendo em vista os passos que você executou nos itens anteriores, use as informações que extrair de cada imagem monocromática para criar uma nova imagem, colorida, conforme abaixo:\n",
    "\n",
    "<img src='pimentas.png' width='20%'>\n",
    "\n",
    "<u>Obs</u>.: na classe <code>Image</code>, uma imagem pode tanto ser salva com um parâmetro adicional chamado <code>mode</code>, que determina o modo como a imagem deve ser salva. Os principais valores para este parâmetro são:\n",
    "\n",
    "<ul>\n",
    "    <li>'RGB': imagem colorida RGB</li>\n",
    "    <li>'L': imagem monocromática em tons de cinza</li>\n",
    "    <li>'1': imagem binária</li>\n",
    "</ul>\n",
    "\n",
    "Para mais valores deste parâmetro, consulte <a href='https://pillow.readthedocs.io/en/stable/handbook/concepts.html#concept-modes' target='_blank'>este link</a>.\n",
    "\n",
    "<u>Dica</u>: a classe <code>Image</code> possui um método chamado <code>convert</code>, que permite que se converta uma imagem (um objeto da classe <code>Image</code>) do seu modo original para outro. Por exemplo (considere a imagem no objeto <code>img</code>):\n",
    "\n",
    "<code>img2 = img.convert(mode='L)</code>\n",
    "\n",
    "Para saber mais, consulte <a href='https://pillow.readthedocs.io/en/stable/reference/Image.html#PIL.Image.Image.convert'>este link</a>."
   ]
  },
  {
   "cell_type": "code",
   "execution_count": 6,
   "metadata": {},
   "outputs": [
    {
     "name": "stdout",
     "output_type": "stream",
     "text": [
      "Informe o caminho da imagem vermelha: C:\\Users\\gabri\\Documents\\pdi\\pratica 1\\Prática01\\canaisRGB\\pimentas-r.png\n",
      "Informe o caminho da imagem verde: C:\\Users\\gabri\\Documents\\pdi\\pratica 1\\Prática01\\canaisRGB\\pimentas-g.png\n",
      "Informe o caminho da imagem azul: C:\\Users\\gabri\\Documents\\pdi\\pratica 1\\Prática01\\canaisRGB\\pimentas-b.png\n"
     ]
    }
   ],
   "source": [
    "entradaR = input('Informe o caminho da imagem vermelha: ')\n",
    "entradaG = input('Informe o caminho da imagem verde: ')\n",
    "entradaB = input('Informe o caminho da imagem azul: ')\n",
    "imgR = Image.open(entradaR)\n",
    "r = np.asarray(imgR, dtype=int)\n",
    "imgG = Image.open(entradaG)\n",
    "g = np.asarray(imgG, dtype=int)\n",
    "imgB = Image.open(entradaB)\n",
    "b = np.asarray(imgB, dtype=int)\n",
    "s=np.zeros([383,513,3])\n",
    "s[:,:,0]=r\n",
    "s[:,:,1]=g\n",
    "s[:,:,2]=b\n",
    "imgS = Image.fromarray(np.uint8(s))\n",
    "imgS.show()\n",
    "saida = input('Informe o caminho e o nome de saída: ')\n",
    "imgS.save(saida)"
   ]
  },
  {
   "cell_type": "markdown",
   "metadata": {},
   "source": [
    "### 2.3 Brilho e contraste\n",
    "\n",
    "A imagem <code>pimentas-ruim.png</code> (ver visualização abaixo) é uma versão deteriorada da imagem que você reconstruiu no item anterior. Ela foi obtida alterando-se o brilho e o contraste da imagem original.\n",
    "\n",
    "<img src='pimentas-ruim.png' width='20%'>\n",
    "\n",
    "Neste exercício, você deve tentar restaurar, de forma aproximada, a imagem original. Para isto, vamos utilizar a função <code>rmse</code>, apresentada acima. Complete o código abaixo para cumprir esta tarefa."
   ]
  },
  {
   "cell_type": "code",
   "execution_count": 4,
   "metadata": {},
   "outputs": [
    {
     "name": "stdout",
     "output_type": "stream",
     "text": [
      "Informe o caminho da imagem deteriodada: C:\\Users\\gabri\\Documents\\pdi\\pratica 1\\Prática01\\pimentas-ruim.png\n",
      "Informe o caminho da imagem original: C:\\Users\\gabri\\Documents\\pdi\\pratica 1\\Prática01\\pimentas.png\n",
      "49.17255915448961\n",
      "\n",
      "Melhor resultado: brilho = -63 e contraste = 1.90000 (RMSE=37.94174)\n"
     ]
    }
   ],
   "source": [
    "### Abrir e extrair dados da imagem deteriorada (completar abaixo)\n",
    "entradaD = input('Informe o caminho da imagem deteriodada: ')\n",
    "imgD = Image.open(entradaD)\n",
    "D=np.asarray(imgD, dtype=int)\n",
    "### Abrir e extrair dados da imagem a ser reconstruída/original (completar abaixo)\n",
    "entradaO = input('Informe o caminho da imagem original: ')\n",
    "imgO = Image.open(entradaO)\n",
    "O=np.asarray(imgO, dtype=int)\n",
    "### Incializações dos melhores valores (completar abaixo)\n",
    "melhor_b=1\n",
    "melhor_c=0\n",
    "melhor_rmse=rmse(imgD,imgO)\n",
    "melhorimagem=D\n",
    "print(melhor_rmse)\n",
    "### Para valores de c entre 0.1 e 2.0 e valores de b entre -100 e 100 faça:\n",
    "###    reconstrua uma imagem a partir da combinação de parâmetros acima e compare (rmse) com a original\n",
    "###    salve o melhor resultado obtido (se encontrado naquela iteração)\n",
    "###   Implemente abaixo:\n",
    "#C:\\Users\\gabri\\Documents\\pdi\\pratica 1\\Prática01\\pimentas-ruim.png\n",
    "for i in range(1,20):\n",
    "    c=i/10.0\n",
    "    for k in range(-100,100):\n",
    "        temp=c*D+k\n",
    "        temp[temp>255]=255\n",
    "        temp[temp<0]=0\n",
    "        imgT=Image.fromarray(np.uint8(temp))\n",
    "        rmsev=rmse(imgT,O)\n",
    "        if rmsev<=melhor_rmse:\n",
    "            melhor_c=c\n",
    "            melhor_b=k\n",
    "            melhor_rmse=rmsev\n",
    "            melhorimagem=temp\n",
    "\n",
    "### Exibição dos resultados\n",
    "print('\\nMelhor resultado: brilho = %d e contraste = %5.5f (RMSE=%5.5f)' % (melhor_b, melhor_c, melhor_rmse))\n",
    "\n",
    "### Exiba a melhor imagem (não é necessário salvar)\n",
    "imgN = Image.fromarray(np.uint8(melhorimagem))\n",
    "imgN.show()"
   ]
  }
 ],
 "metadata": {
  "kernelspec": {
   "display_name": "Python 3 (ipykernel)",
   "language": "python",
   "name": "python3"
  },
  "language_info": {
   "codemirror_mode": {
    "name": "ipython",
    "version": 3
   },
   "file_extension": ".py",
   "mimetype": "text/x-python",
   "name": "python",
   "nbconvert_exporter": "python",
   "pygments_lexer": "ipython3",
   "version": "3.9.6"
  }
 },
 "nbformat": 4,
 "nbformat_minor": 4
}

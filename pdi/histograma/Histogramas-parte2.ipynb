{
 "cells": [
  {
   "cell_type": "markdown",
   "metadata": {},
   "source": [
    "## Preâmbulo\n",
    "### Importações e afins"
   ]
  },
  {
   "cell_type": "markdown",
   "metadata": {},
   "source": [
    "gabriel macedo nunes pontes\n",
    "98877"
   ]
  },
  {
   "cell_type": "code",
   "execution_count": 2,
   "metadata": {},
   "outputs": [],
   "source": [
    "%matplotlib inline\n",
    "\n",
    "from PIL import Image\n",
    "import numpy as np\n",
    "import os\n",
    "from mpl_toolkits import mplot3d\n",
    "import matplotlib.pyplot as plt\n",
    "import seaborn as sns"
   ]
  },
  {
   "cell_type": "markdown",
   "metadata": {},
   "source": [
    "### Arquivo de entrada e geração da imagem"
   ]
  },
  {
   "cell_type": "code",
   "execution_count": 15,
   "metadata": {},
   "outputs": [],
   "source": [
    "arquivo = 'rio_cinza.jpg'\n",
    "\n",
    "if os.path.isfile(arquivo):\n",
    "    img = Image.open(arquivo)\n",
    "    if img.mode == 'RGB':\n",
    "        img_cinza = img.convert('L')\n",
    "    else:\n",
    "        img_cinza = img\n",
    "        img = img_cinza.convert('RGB')\n",
    "    f = np.asarray(img)\n",
    "    f_cinza = np.asarray(img_cinza)\n",
    "else:\n",
    "    print('Arquivo inexistente. Reexecute a célula, informando um arquivo correto')"
   ]
  },
  {
   "cell_type": "markdown",
   "metadata": {},
   "source": [
    "#### Se desejar visualizar as imagens, execute a célula abaixo"
   ]
  },
  {
   "cell_type": "code",
   "execution_count": 19,
   "metadata": {},
   "outputs": [],
   "source": [
    "img.show()\n",
    "img_cinza.show()"
   ]
  },
  {
   "cell_type": "markdown",
   "metadata": {},
   "source": [
    "### Declarações de funções\n",
    "#### Geração de Histogramas"
   ]
  },
  {
   "cell_type": "code",
   "execution_count": 6,
   "metadata": {},
   "outputs": [],
   "source": [
    "def histograma(f, L):\n",
    "    h = np.zeros(L)\n",
    "    \n",
    "    for k in range(L):\n",
    "        h[k] = np.sum(f == k)\n",
    "    \n",
    "    # O laço acima equivale a:\n",
    "    #for y in range(f.shape[0]):\n",
    "    #    for x in range(f.shape[1]):\n",
    "    #        k = int(f[y,x])\n",
    "    #        h[k] += 1\n",
    "        \n",
    "    return h\n",
    "\n",
    "def calcula_cdf(p):\n",
    "    cdf = np.zeros(p.shape)\n",
    "    \n",
    "    for k in range(len(p)):\n",
    "        cdf[k] = np.sum(p[:k+1])\n",
    "        \n",
    "    return cdf\n",
    "\n",
    "def gera_histogramas(f, L):\n",
    "    # Contagem de pixels da imagem\n",
    "    n = f.shape[0] * f.shape[1]\n",
    "    \n",
    "    h = histograma(f, L)\n",
    "    p = h / n\n",
    "    cdf = calcula_cdf(p)\n",
    "\n",
    "    return h,p,cdf\n",
    "    \n",
    "def histogramas(f, Lmax=255):\n",
    "    # Contagem do número de tons:\n",
    "    L = Lmax + 1\n",
    "    \n",
    "    # identifica o tipo de imagem\n",
    "    if len(f.shape) < 3:\n",
    "        # Imagem cinza\n",
    "        return gera_histogramas(f, L)\n",
    "    else:\n",
    "        # Imagem RGB\n",
    "        hr,pr,cdfr = gera_histogramas(f[:,:,0], L)\n",
    "        hg,pg,cdfg = gera_histogramas(f[:,:,1], L)\n",
    "        hb,pb,cdfb = gera_histogramas(f[:,:,2], L)\n",
    "        \n",
    "        return (hr,hg,hb), (pr,pg,pb), (cdfr, cdfg, cdfb)"
   ]
  },
  {
   "cell_type": "markdown",
   "metadata": {},
   "source": [
    "#### Exibição de histogramas"
   ]
  },
  {
   "cell_type": "code",
   "execution_count": 7,
   "metadata": {},
   "outputs": [],
   "source": [
    "def plota_histogramas(h1, h2, h3, titulo='Histogramas para a imagem', tipos=['h','p','c'],\n",
    "                      escala_log=[False, False, False]):\n",
    "    tipos_padrao = {\n",
    "        'h': 'Contagem de pixels',\n",
    "        'p': 'Probabilidade de ocorrência',\n",
    "        'c': 'Probabilidade Acumulada de ocorrência'\n",
    "        }\n",
    "    for tipo in tipos:\n",
    "        if tipo not in tipos_padrao.keys():\n",
    "            msg = 'Tipo %s inválido. Deve ser um entre:\\n' % tipo\n",
    "            for t in tipos:\n",
    "                msg += '\\t' + t + ' --> ' + tipos[t] + '\\n'\n",
    "\n",
    "            raise Exception(msg)\n",
    "    \n",
    "    \n",
    "    fig = plt.figure(figsize=(20, 4))\n",
    "    fig.suptitle(titulo)\n",
    "    \n",
    "    k = np.array(list(range(len(h1))))\n",
    "    \n",
    "    # Histograma de Distribuição\n",
    "    ax = fig.add_subplot(1, 3, 1)\n",
    "    ax.bar(k, h1)\n",
    "    ax.set_xlim(0,255)\n",
    "    ax.set_ylabel(tipos_padrao[tipos[0]])\n",
    "    if escala_log[0]:\n",
    "        ax.set_yscale('log')\n",
    "    ax.grid(True)\n",
    "    \n",
    "    # Histograma de Probabilidade\n",
    "    ax = fig.add_subplot(1, 3, 2)\n",
    "    ax.bar(k, h2)\n",
    "    ax.set_xlim(0,255)\n",
    "    ax.set_ylabel(tipos_padrao[tipos[1]])\n",
    "    if escala_log[1]:\n",
    "        ax.set_yscale('log')\n",
    "    ax.grid(True)\n",
    "    \n",
    "    # Histograma de Distribuição\n",
    "    ax = fig.add_subplot(1, 3, 3)\n",
    "    ax.bar(k, h3)\n",
    "    ax.set_xlim(0,255)\n",
    "    ax.set_ylabel(tipos_padrao[tipos[2]])\n",
    "    if escala_log[2]:\n",
    "        ax.set_yscale('log')\n",
    "    ax.grid(True)\n",
    "    \n",
    "    plt.tight_layout()\n",
    "    plt.show()\n",
    "    \n",
    "def plota_individual(h, titulo, tipo='h', escala_log=False):\n",
    "    tipos = {\n",
    "        'h': 'Contagem de pixels',\n",
    "        'p': 'Probabilidade de ocorrência',\n",
    "        'c': 'Probabilidade Acumulada de ocorrência'\n",
    "        }\n",
    "    if tipo not in tipos.keys():\n",
    "        msg = 'Tipo %s inválido. Deve ser um entre:\\n' % tipo\n",
    "        for t in tipos:\n",
    "            msg += '\\t' + t + ' --> ' + tipos[t] + '\\n'\n",
    "            \n",
    "        raise Exception(msg)\n",
    "    \n",
    "    fig = plt.figure()\n",
    "    fig.suptitle(titulo)\n",
    "    \n",
    "    k = np.array(list(range(len(h))))\n",
    "    \n",
    "    # Plota histograma\n",
    "    plt.bar(k, h)\n",
    "    plt.xlim(0,255)\n",
    "    plt.ylabel(tipos[tipo])\n",
    "    plt.grid(True)\n",
    "    if escala_log:\n",
    "        plt.yscale('log')\n",
    "    \n",
    "    plt.tight_layout()\n",
    "    plt.show()"
   ]
  },
  {
   "cell_type": "code",
   "execution_count": null,
   "metadata": {},
   "outputs": [],
   "source": [
    "h,p,cdf = histogramas(f_cinza)\n",
    "#plota_histogramas(h,p,cdf)\n",
    "#plota_histogramas(h,p,cdf,escala_log=[False, True, False])\n",
    "\n",
    "plota_individual(p, 'Histograma Monocromático', tipo='p')"
   ]
  },
  {
   "cell_type": "code",
   "execution_count": null,
   "metadata": {},
   "outputs": [],
   "source": [
    "H,P,CDF = histogramas(f)\n",
    "\n",
    "plota_histogramas(H[0],H[1],H[2],titulo='Histogramas R, G, e B para a imagem', tipos=['h','h','h'])"
   ]
  },
  {
   "cell_type": "code",
   "execution_count": null,
   "metadata": {},
   "outputs": [],
   "source": [
    "f_lin = np.reshape(f_cinza, f.shape[0]*f.shape[1])\n",
    "\n",
    "sns.histplot(f_lin, stat='probability', cumulative=True)\n",
    "plt.show()"
   ]
  },
  {
   "cell_type": "markdown",
   "metadata": {},
   "source": [
    "## Equalização de Histogramas\n",
    "### Para imagens coloridas RGB:"
   ]
  },
  {
   "cell_type": "code",
   "execution_count": 9,
   "metadata": {},
   "outputs": [],
   "source": [
    "# Parâmetro inicial\n",
    "Lmax = 255\n",
    "\n",
    "# Obtem histogramas de f\n",
    "H,P,CDF = histogramas(f)\n",
    "CDF = np.array(CDF)\n",
    "\n",
    "# Incializa variáveis\n",
    "L = Lmax + 1\n",
    "s=np.zeros((3,L),np.uint8)\n",
    "# Equaliza\n",
    "for k in range(0,L):\n",
    "    s[:,k]=np.uint8(np.round(Lmax*CDF[:,k]))\n",
    "# Aplica\n",
    "imgEq=img.copy()\n",
    "for y in range (imgEq.height):\n",
    "    for x in range(imgEq.width):\n",
    "        r,g,b=imgEq.getpixel((x,y))\n",
    "        r=s[0,r]\n",
    "        g=s[1,g]\n",
    "        b=s[2,b]\n",
    "        imgEq.putpixel((x,y),(r,g,b))\n",
    "        \n",
    "# Exibe\n",
    "img.show()\n",
    "imgEq.show()"
   ]
  },
  {
   "cell_type": "markdown",
   "metadata": {},
   "source": [
    "## Especificação direta de histograma\n",
    "### Para imagens RGB:\n",
    "\n",
    "#### Arquivo de estilo"
   ]
  },
  {
   "cell_type": "code",
   "execution_count": 38,
   "metadata": {},
   "outputs": [],
   "source": [
    "arquivo_estilo = 'antiga02.jpg'\n",
    "\n",
    "if os.path.isfile(arquivo_estilo):\n",
    "    # Objeto Image + array da imagem original\n",
    "    imgEstilo = Image.open(arquivo_estilo)\n",
    "    g = np.asarray(imgEstilo)\n",
    "    # Objeto Image + array da imagem convertida para tons de cinza\n",
    "    imgEstilo_cinza = imgEstilo.convert('L')\n",
    "    g_cinza = np.asarray(imgEstilo_cinza)\n",
    "else:\n",
    "    print('Arquivo inexistente. Reexecute a célula, informando um arquivo correto')\n",
    "# Parâmetro inicial\n",
    "Lmax = 255\n",
    "\n",
    "# Obtem histogramas de f e g\n",
    "H,P,CDF = histogramas(f)\n",
    "CDFf = np.array(CDF)\n",
    "H,P,CDF = histogramas(g)\n",
    "CDFg = np.array(CDF)\n",
    "\n",
    "# Pareamento\n",
    "mapa=np.zeros((3,Lmax+1),dtype=np.uint8)\n",
    "for k in range (Lmax+1):\n",
    "    for canal in range(3):\n",
    "        dist=np.abs(CDFf[canal,k]-CDFg[canal,:])\n",
    "        mapa[canal,k]=np.argmin(dist)\n",
    "\n",
    "imgEspec=img.copy()\n",
    "for y in range (imgEspec.height):\n",
    "    for x in range(imgEspec.width):\n",
    "        r,g1,b=imgEspec.getpixel((x,y))\n",
    "        R=mapa[0,r]\n",
    "        G=mapa[1,g1]\n",
    "        B=mapa[2,b]\n",
    "        imgEspec.putpixel((x,y),(R,G,B))\n",
    "img.show()\n",
    "imgEstilo.show()\n",
    "imgEspec.show()"
   ]
  },
  {
   "cell_type": "markdown",
   "metadata": {},
   "source": [
    "## Alargamento de contraste"
   ]
  },
  {
   "cell_type": "code",
   "execution_count": 11,
   "metadata": {},
   "outputs": [],
   "source": [
    "# Implementação\n",
    "n=np.empty(f.shape)\n",
    "for canal in range(3):\n",
    "    n[:,:,canal]=((f[:,:,canal]-np.min(f[:,:,canal]))/(np.max(f[:,:,canal])-np.min(f[:,:,canal])))*Lmax\n",
    "imgAlarg=Image.fromarray(np.uint8(np.round(n)))\n",
    "img.show()\n",
    "imgAlarg.show()"
   ]
  },
  {
   "cell_type": "code",
   "execution_count": 12,
   "metadata": {},
   "outputs": [
    {
     "data": {
      "image/png": "[encoded data removed]",
      "text/plain": [
       "<Figure size 1440x288 with 3 Axes>"
      ]
     },
     "metadata": {
      "needs_background": "light"
     },
     "output_type": "display_data"
    }
   ],
   "source": [
    "imgEqc = imgEq.convert('L')\n",
    "imgAlargc = imgAlarg.convert('L')\n",
    "\n",
    "_,p1,__ = histogramas(np.asarray(img_cinza))\n",
    "_,p2,__ = histogramas(np.asarray(imgEqc))\n",
    "_,p3,__ = histogramas(np.asarray(imgAlargc))\n",
    "\n",
    "plota_histogramas(p1, p2, p3, titulo='Histogramas para a imagem', tipos=['p', 'p', 'p'])"
   ]
  },
  {
   "cell_type": "code",
   "execution_count": null,
   "metadata": {},
   "outputs": [],
   "source": []
  }
 ],
 "metadata": {
  "kernelspec": {
   "display_name": "Python 3 (ipykernel)",
   "language": "python",
   "name": "python3"
  },
  "language_info": {
   "codemirror_mode": {
    "name": "ipython",
    "version": 3
   },
   "file_extension": ".py",
   "mimetype": "text/x-python",
   "name": "python",
   "nbconvert_exporter": "python",
   "pygments_lexer": "ipython3",
   "version": "3.9.6"
  }
 },
 "nbformat": 4,
 "nbformat_minor": 4
}
